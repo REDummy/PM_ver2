{
 "cells": [
  {
   "cell_type": "code",
   "execution_count": 1,
   "outputs": [
    {
     "name": "stdout",
     "output_type": "stream",
     "text": [
      "{'uci_id': 519, 'name': 'Heart failure clinical records', 'repository_url': 'https://archive.ics.uci.edu/dataset/519/heart+failure+clinical+records', 'data_url': 'https://archive.ics.uci.edu/static/public/519/data.csv', 'abstract': 'This dataset contains the medical records of 299 patients who had heart failure, collected during their follow-up period, where each patient profile has 13 clinical features.', 'area': 'Life Science', 'tasks': ['Classification', 'Regression', 'Clustering'], 'characteristics': ['Multivariate'], 'num_instances': 299, 'num_features': 12, 'feature_types': ['Integer', 'Real'], 'demographics': ['Age', 'Sex'], 'target_col': ['death_event'], 'index_col': None, 'has_missing_values': 'no', 'missing_values_symbol': None, 'year_of_dataset_creation': 2020, 'last_updated': 'Sat Sep 09 2023', 'dataset_doi': '10.24432/C5Z89R', 'creators': [], 'intro_paper': {'title': 'Machine learning can predict survival of patients with heart failure from serum creatinine and ejection fraction alone', 'authors': 'D. Chicco, Giuseppe Jurman', 'published_in': 'BMC Medical Informatics and Decision Making', 'year': 2020, 'url': 'https://www.semanticscholar.org/paper/e64579d8593140396b518682bb3a47ba246684eb', 'doi': None}, 'additional_info': {'summary': 'A detailed description of the dataset can be found in the Dataset section of the following paper: \\r\\n\\r\\nDavide Chicco, Giuseppe Jurman: \"Machine learning can predict survival of patients with heart failure from serum creatinine and ejection fraction alone\". BMC Medical Informatics and Decision Making 20, 16 (2020). https://doi.org/10.1186/s12911-020-1023-5 \\r\\n', 'purpose': None, 'funded_by': None, 'instances_represent': None, 'recommended_data_splits': None, 'sensitive_data': None, 'preprocessing_description': None, 'variable_info': 'Thirteen (13) clinical features:\\n\\n- age: age of the patient (years)\\n- anaemia: decrease of red blood cells or hemoglobin (boolean)\\n- creatinine phosphokinase  (CPK): level of the CPK enzyme in the blood (mcg/L)\\n- diabetes: if the patient has diabetes (boolean)\\n- ejection fraction: percentage of blood leaving the heart at each contraction  (percentage)\\n- high blood pressure: if the patient has hypertension (boolean)\\n- platelets: platelets in the blood (kiloplatelets/mL)\\n- sex: woman or man (binary)\\n- serum creatinine: level of serum creatinine in the blood (mg/dL)\\n- serum sodium: level of serum sodium in the blood (mEq/L)\\n- smoking: if the patient smokes or not (boolean)\\n- time: follow-up period (days)\\n- [target] death event: if the patient died during the follow-up period (boolean)\\n\\nFor more information, please check Table 1, Table 2, and Table 3 of the following paper: \\n\\nDavide Chicco, Giuseppe Jurman: \"Machine learning can predict survival of patients with heart failure from serum creatinine and ejection fraction alone\". BMC Medical Informatics and Decision Making 20, 16 (2020). https://doi.org/10.1186/s12911-020-1023-5 \\n', 'citation': None}}\n",
      "                        name     role        type demographic  \\\n",
      "0                        age  Feature     Integer         Age   \n",
      "1                    anaemia  Feature      Binary        None   \n",
      "2   creatinine_phosphokinase  Feature     Integer        None   \n",
      "3                   diabetes  Feature      Binary        None   \n",
      "4          ejection_fraction  Feature     Integer        None   \n",
      "5        high_blood_pressure  Feature      Binary        None   \n",
      "6                  platelets  Feature  Continuous        None   \n",
      "7           serum_creatinine  Feature  Continuous        None   \n",
      "8               serum_sodium  Feature     Integer        None   \n",
      "9                        sex  Feature      Binary         Sex   \n",
      "10                   smoking  Feature      Binary        None   \n",
      "11                      time  Feature     Integer        None   \n",
      "12               death_event   Target      Binary        None   \n",
      "\n",
      "                                          description             units  \\\n",
      "0                                  age of the patient             years   \n",
      "1           decrease of red blood cells or hemoglobin              None   \n",
      "2                level of the CPK enzyme in the blood             mcg/L   \n",
      "3                         if the patient has diabetes              None   \n",
      "4   percentage of blood leaving the heart at each ...                 %   \n",
      "5                     if the patient has hypertension              None   \n",
      "6                              platelets in the blood  kiloplatelets/mL   \n",
      "7              level of serum creatinine in the blood             mg/dL   \n",
      "8                  level of serum sodium in the blood             mEq/L   \n",
      "9                                        woman or man              None   \n",
      "10                       if the patient smokes or not              None   \n",
      "11                                   follow-up period              days   \n",
      "12    if the patient died during the follow-up period              None   \n",
      "\n",
      "   missing_values  \n",
      "0              no  \n",
      "1              no  \n",
      "2              no  \n",
      "3              no  \n",
      "4              no  \n",
      "5              no  \n",
      "6              no  \n",
      "7              no  \n",
      "8              no  \n",
      "9              no  \n",
      "10             no  \n",
      "11             no  \n",
      "12             no  \n",
      "test\n"
     ]
    }
   ],
   "source": [
    "from ucimlrepo import fetch_ucirepo \n",
    "from sklearn.cluster import KMeans\n",
    "  \n",
    "# fetch dataset \n",
    "heart_failure_clinical_records = fetch_ucirepo(id=519) \n",
    "  \n",
    "# data (as pandas dataframes) \n",
    "data = heart_failure_clinical_records.data.features \n",
    "target = heart_failure_clinical_records.data.targets\n",
    "  \n",
    "# metadata \n",
    "print(heart_failure_clinical_records.metadata) \n",
    "  \n",
    "# variable information \n",
    "print(heart_failure_clinical_records.variables) \n",
    "print(\"test\")"
   ],
   "metadata": {
    "collapsed": false,
    "ExecuteTime": {
     "end_time": "2023-10-03T02:50:19.570261500Z",
     "start_time": "2023-10-03T02:50:17.876598400Z"
    }
   },
   "id": "24514573d43aeffd"
  },
  {
   "cell_type": "code",
   "execution_count": 2,
   "outputs": [],
   "source": [
    "from sklearn.preprocessing import StandardScaler\n",
    "import pandas as pd\n",
    "\n",
    "scaler = StandardScaler()\n",
    "data_scaled = scaler.fit_transform(data)\n",
    "\n",
    "pd.DataFrame(data_scaled).head()\n",
    "\n",
    "n_clusters = 3\n",
    "kmeans = KMeans(n_clusters=n_clusters, random_state=42)\n",
    "kmeans.fit(data)\n",
    "\n",
    "import matplotlib.pyplot as plt\n",
    "import seaborn as sns\n",
    "\n",
    "# Create a pair plot including the cluster assignments\n",
    "\n",
    "data['Cluster'] = kmeans.labels_  # Add cluster assignments as a new column\n",
    "\n",
    "# Use Seaborn to create a pair plot\n",
    "sns.set(style=\"ticks\")\n",
    "sns.pairplot(data, hue=\"Cluster\")\n",
    "# plt.suptitle(\"Pair Plot with K-Means Clusters\", y=1.02)\n",
    "plt.show()  # Display the pair plot"
   ],
   "metadata": {
    "collapsed": false,
    "ExecuteTime": {
     "end_time": "2023-10-03T02:48:21.536655500Z",
     "start_time": "2023-10-03T02:48:21.511231700Z"
    }
   },
   "id": "ff32ff18779382a0"
  },
  {
   "cell_type": "code",
   "execution_count": 2,
   "outputs": [],
   "source": [],
   "metadata": {
    "collapsed": false,
    "ExecuteTime": {
     "end_time": "2023-10-03T02:48:21.547177700Z",
     "start_time": "2023-10-03T02:48:21.542191Z"
    }
   },
   "id": "d6517cbb8ed8b7ce"
  }
 ],
 "metadata": {
  "kernelspec": {
   "display_name": "Python 3",
   "language": "python",
   "name": "python3"
  },
  "language_info": {
   "codemirror_mode": {
    "name": "ipython",
    "version": 2
   },
   "file_extension": ".py",
   "mimetype": "text/x-python",
   "name": "python",
   "nbconvert_exporter": "python",
   "pygments_lexer": "ipython2",
   "version": "2.7.6"
  }
 },
 "nbformat": 4,
 "nbformat_minor": 5
}
