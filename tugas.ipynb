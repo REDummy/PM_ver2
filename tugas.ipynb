{
 "cells": [
  {
   "cell_type": "code",
   "execution_count": 5,
   "id": "initial_id",
   "metadata": {
    "collapsed": true,
    "ExecuteTime": {
     "end_time": "2023-10-02T12:44:19.531983100Z",
     "start_time": "2023-10-02T12:44:19.490483100Z"
    }
   },
   "outputs": [],
   "source": [
    "import math"
   ]
  },
  {
   "cell_type": "code",
   "execution_count": 6,
   "outputs": [],
   "source": [
    "def euclidean_distance_2d(x1, y1, x2, y2):\n",
    "    return math.sqrt(math.pow((x2 - x1) , 2) + math.pow((y2 - y1) , 2))\n",
    "\n",
    "def manhattan_distance_2d(x1, y1, x2, y2):\n",
    "    return abs(x2 - x1) + abs(y2 - y1)"
   ],
   "metadata": {
    "collapsed": false,
    "ExecuteTime": {
     "end_time": "2023-10-02T12:44:19.533090400Z",
     "start_time": "2023-10-02T12:44:19.512413700Z"
    }
   },
   "id": "366f0ffb5ea85aa6"
  },
  {
   "cell_type": "code",
   "execution_count": 7,
   "outputs": [
    {
     "name": "stdout",
     "output_type": "stream",
     "text": [
      "Jarak Euclidean (2D): 2.8284271247461903\n",
      "Jarak Manhattan (2D): 4\n"
     ]
    }
   ],
   "source": [
    "x1, y1 = 3, 4\n",
    "x2, y2 = 1, 2\n",
    "euclidean_2d = euclidean_distance_2d(x1, y1, x2, y2)\n",
    "manhattan_2d = manhattan_distance_2d(x1, y1, x2, y2)\n",
    "\n",
    "print(\"Jarak Euclidean (2D):\", euclidean_2d)\n",
    "print(\"Jarak Manhattan (2D):\", manhattan_2d)"
   ],
   "metadata": {
    "collapsed": false,
    "ExecuteTime": {
     "end_time": "2023-10-02T12:44:19.547700400Z",
     "start_time": "2023-10-02T12:44:19.525938300Z"
    }
   },
   "id": "31c2c6ff36fff6e"
  },
  {
   "cell_type": "code",
   "execution_count": 8,
   "outputs": [],
   "source": [
    "\n",
    "def euclidean_distance_3d(x1, y1, z1, x2, y2, z2):\n",
    "    return math.sqrt(math.pow((x2 - x1) , 2) + math.pow((y2 - y1) , 2) + math.pow((z2 - z1) , 2))\n",
    "\n",
    "def manhattan_distance_3d(x1, y1, z1, x2, y2, z2):\n",
    "    return abs(x2 - x1) + abs(y2 - y1) + abs(z2 - z1)"
   ],
   "metadata": {
    "collapsed": false,
    "ExecuteTime": {
     "end_time": "2023-10-02T12:44:19.554736Z",
     "start_time": "2023-10-02T12:44:19.539096300Z"
    }
   },
   "id": "3fa96939a2cf8a99"
  },
  {
   "cell_type": "code",
   "execution_count": 9,
   "outputs": [
    {
     "name": "stdout",
     "output_type": "stream",
     "text": [
      "Jarak Euclidean (3D): 10.392304845413264\n",
      "Jarak Manhattan (3D): 18\n"
     ]
    }
   ],
   "source": [
    "\n",
    "x1, y1, z1 = 1, 2, 3\n",
    "x2, y2, z2 = 7, 8, 9\n",
    "euclidean_3d = euclidean_distance_3d(x1, y1, z1, x2, y2, z2)\n",
    "manhattan_3d = manhattan_distance_3d(x1, y1, z1, x2, y2, z2)\n",
    "\n",
    "print(\"Jarak Euclidean (3D):\", euclidean_3d)\n",
    "print(\"Jarak Manhattan (3D):\", manhattan_3d)\n"
   ],
   "metadata": {
    "collapsed": false,
    "ExecuteTime": {
     "end_time": "2023-10-02T12:44:19.611013800Z",
     "start_time": "2023-10-02T12:44:19.556736400Z"
    }
   },
   "id": "58f64d657e23595a"
  }
 ],
 "metadata": {
  "kernelspec": {
   "display_name": "Python 3",
   "language": "python",
   "name": "python3"
  },
  "language_info": {
   "codemirror_mode": {
    "name": "ipython",
    "version": 2
   },
   "file_extension": ".py",
   "mimetype": "text/x-python",
   "name": "python",
   "nbconvert_exporter": "python",
   "pygments_lexer": "ipython2",
   "version": "2.7.6"
  }
 },
 "nbformat": 4,
 "nbformat_minor": 5
}
